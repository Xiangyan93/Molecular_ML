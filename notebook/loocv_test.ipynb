{
 "cells": [
  {
   "cell_type": "code",
   "execution_count": 82,
   "metadata": {},
   "outputs": [
    {
     "name": "stderr",
     "output_type": "stream",
     "text": [
      "RDKit WARNING: [02:34:57] Enabling RDKit 2019.09.3 jupyter extensions\n"
     ]
    }
   ],
   "source": [
    "import pickle\n",
    "import sys\n",
    "sys.path.append('..')\n",
    "with open('../data/tt_subset.pkl','rb') as file:\n",
    "    data = pickle.load(file)"
   ]
  },
  {
   "cell_type": "code",
   "execution_count": 83,
   "metadata": {},
   "outputs": [],
   "source": [
    "X, y = data['graph'], data['tt']"
   ]
  },
  {
   "cell_type": "code",
   "execution_count": 84,
   "metadata": {},
   "outputs": [],
   "source": [
    "from app.kernel import *\n",
    "from app.smiles import *\n",
    "from app.ActiveLearning import *\n",
    "from app.Nystrom import NystromGaussianProcessRegressor\n",
    "kernel_config = KernelConfig(save_mem=False, property='tt')"
   ]
  },
  {
   "cell_type": "code",
   "execution_count": 205,
   "metadata": {},
   "outputs": [],
   "source": [
    "from sklearn.gaussian_process import GaussianProcessRegressor\n",
    "model = GaussianProcessRegressor(kernel=kernel_config.kernel, random_state=0, optimizer=None,alpha=0.000001).fit(X[1:], y[1:])"
   ]
  },
  {
   "cell_type": "code",
   "execution_count": 206,
   "metadata": {},
   "outputs": [],
   "source": [
    "def predict_manual_loocv(i):\n",
    "    train_X = np.delete(np.array(X), i)\n",
    "    train_y = np.delete(np.array(y), i)\n",
    "    model = GaussianProcessRegressor(kernel=kernel_config.kernel, random_state=0, optimizer=None,\n",
    "                                             alpha=0.000001).fit(train_X, train_y)\n",
    "    y_pred, y_std = model.predict(X, return_std=True)\n",
    "    return y_pred[i], y_std[i]"
   ]
  },
  {
   "cell_type": "code",
   "execution_count": 207,
   "metadata": {},
   "outputs": [
    {
     "data": {
      "text/plain": [
       "(array([221.42360253, 221.42355472]), array([0.02284074, 0.02284309]))"
      ]
     },
     "execution_count": 207,
     "metadata": {},
     "output_type": "execute_result"
    }
   ],
   "source": [
    "model.predict((X[0],X[0]), return_std=True)"
   ]
  },
  {
   "cell_type": "code",
   "execution_count": 215,
   "metadata": {},
   "outputs": [],
   "source": [
    "import scipy\n",
    "K = model.kernel_(X)\n",
    "#y_ = y - y.mean()\n",
    "y_ = y\n",
    "K[np.diag_indices_from(K)] += 0.000001\n",
    "I_mat = np.eye(K.shape[0])\n",
    "\n",
    "L_ = scipy.linalg.cholesky(K, lower=True)\n",
    "L_inv = scipy.linalg.solve_triangular(L_.T, np.eye(L_.shape[0]))\n",
    "K_inv = L_inv.dot(L_inv.T)\n",
    "\n",
    "#K_inv = scipy.linalg.cho_solve(scipy.linalg.cho_factor(K,lower=True), I_mat)\n",
    "#K_inv = np.linalg.inv(K) \n",
    "y_pred = y_ - K_inv.dot(y_) / K_inv.diagonal() #+ y.mean()\n",
    "y_std = np.sqrt(1/ K_inv.diagonal())"
   ]
  },
  {
   "cell_type": "code",
   "execution_count": 216,
   "metadata": {},
   "outputs": [
    {
     "data": {
      "text/plain": [
       "(0    221.423499\n",
       " 1    192.282991\n",
       " 2    231.914260\n",
       " 3    148.011123\n",
       " 4    237.226565\n",
       " Name: tt, dtype: float64,\n",
       " array([0.0228698 , 0.02862989, 0.01309133, 0.5390026 , 0.53863297]))"
      ]
     },
     "execution_count": 216,
     "metadata": {},
     "output_type": "execute_result"
    }
   ],
   "source": [
    "# using loocv formula\n",
    "y_pred, y_std"
   ]
  },
  {
   "cell_type": "code",
   "execution_count": 217,
   "metadata": {},
   "outputs": [],
   "source": [
    "# using manual loop\n",
    "manual_y = np.array([predict_manual_loocv(i) for i in range(5)])"
   ]
  },
  {
   "cell_type": "code",
   "execution_count": 218,
   "metadata": {},
   "outputs": [],
   "source": [
    "df = pd.DataFrame({'Smiles':list(map(lambda x:x.smiles, X)), 'y':y, 'y_pred_loocv':y_pred, 'y_pred_loop':manual_y[:,0],'y_std_loocv':y_std, 'y_std_loop':manual_y[:,1]})"
   ]
  },
  {
   "cell_type": "code",
   "execution_count": 219,
   "metadata": {},
   "outputs": [
    {
     "data": {
      "text/html": [
       "<div>\n",
       "<style scoped>\n",
       "    .dataframe tbody tr th:only-of-type {\n",
       "        vertical-align: middle;\n",
       "    }\n",
       "\n",
       "    .dataframe tbody tr th {\n",
       "        vertical-align: top;\n",
       "    }\n",
       "\n",
       "    .dataframe thead th {\n",
       "        text-align: right;\n",
       "    }\n",
       "</style>\n",
       "<table border=\"1\" class=\"dataframe\">\n",
       "  <thead>\n",
       "    <tr style=\"text-align: right;\">\n",
       "      <th></th>\n",
       "      <th>Smiles</th>\n",
       "      <th>y</th>\n",
       "      <th>y_pred_loocv</th>\n",
       "      <th>y_pred_loop</th>\n",
       "      <th>y_std_loocv</th>\n",
       "      <th>y_std_loop</th>\n",
       "    </tr>\n",
       "  </thead>\n",
       "  <tbody>\n",
       "    <tr>\n",
       "      <th>0</th>\n",
       "      <td>CCCCCCCCCC</td>\n",
       "      <td>243.536</td>\n",
       "      <td>221.423499</td>\n",
       "      <td>221.423547</td>\n",
       "      <td>0.022870</td>\n",
       "      <td>0.022846</td>\n",
       "    </tr>\n",
       "    <tr>\n",
       "      <th>1</th>\n",
       "      <td>CCCCCCCC</td>\n",
       "      <td>216.418</td>\n",
       "      <td>192.282991</td>\n",
       "      <td>192.281035</td>\n",
       "      <td>0.028630</td>\n",
       "      <td>0.028607</td>\n",
       "    </tr>\n",
       "    <tr>\n",
       "      <th>2</th>\n",
       "      <td>CCCCCCCCC</td>\n",
       "      <td>219.680</td>\n",
       "      <td>231.914260</td>\n",
       "      <td>231.914260</td>\n",
       "      <td>0.013091</td>\n",
       "      <td>0.013053</td>\n",
       "    </tr>\n",
       "    <tr>\n",
       "      <th>3</th>\n",
       "      <td>c1ccccc1</td>\n",
       "      <td>278.674</td>\n",
       "      <td>148.011123</td>\n",
       "      <td>148.011011</td>\n",
       "      <td>0.539003</td>\n",
       "      <td>0.539002</td>\n",
       "    </tr>\n",
       "    <tr>\n",
       "      <th>4</th>\n",
       "      <td>Cc1ccccc1</td>\n",
       "      <td>178.188</td>\n",
       "      <td>237.226565</td>\n",
       "      <td>237.225673</td>\n",
       "      <td>0.538633</td>\n",
       "      <td>0.538632</td>\n",
       "    </tr>\n",
       "  </tbody>\n",
       "</table>\n",
       "</div>"
      ],
      "text/plain": [
       "       Smiles        y  y_pred_loocv  y_pred_loop  y_std_loocv  y_std_loop\n",
       "0  CCCCCCCCCC  243.536    221.423499   221.423547     0.022870    0.022846\n",
       "1    CCCCCCCC  216.418    192.282991   192.281035     0.028630    0.028607\n",
       "2   CCCCCCCCC  219.680    231.914260   231.914260     0.013091    0.013053\n",
       "3    c1ccccc1  278.674    148.011123   148.011011     0.539003    0.539002\n",
       "4   Cc1ccccc1  178.188    237.226565   237.225673     0.538633    0.538632"
      ]
     },
     "execution_count": 219,
     "metadata": {},
     "output_type": "execute_result"
    }
   ],
   "source": [
    "df"
   ]
  },
  {
   "cell_type": "code",
   "execution_count": 161,
   "metadata": {},
   "outputs": [],
   "source": [
    "x_1d = np.array([[1],[1.5], [3], [4], [10]])\n",
    "y_1d = np.array([[1],[3],[10],[17],[100]])"
   ]
  },
  {
   "cell_type": "code",
   "execution_count": 12,
   "metadata": {},
   "outputs": [
    {
     "data": {
      "text/plain": [
       "(5, 1)"
      ]
     },
     "execution_count": 12,
     "metadata": {},
     "output_type": "execute_result"
    }
   ],
   "source": [
    "x_1d.shape"
   ]
  },
  {
   "cell_type": "code",
   "execution_count": 162,
   "metadata": {},
   "outputs": [],
   "source": [
    "from sklearn.gaussian_process import GaussianProcessRegressor\n",
    "model = GaussianProcessRegressor( random_state=0, normalize_y=True, alpha=0.01).fit(x_1d[:4], y_1d[:4])"
   ]
  },
  {
   "cell_type": "code",
   "execution_count": 163,
   "metadata": {},
   "outputs": [],
   "source": [
    "import numpy as np\n",
    "def predict_manual_loocv_(i):\n",
    "    train_X = np.delete(np.array(x_1d), i).reshape(-1,1)\n",
    "    train_y = np.delete(np.array(y_1d), i).reshape(-1,1)\n",
    "    model = GaussianProcessRegressor(random_state=0, optimizer=None, alpha=0.01).fit(train_X, train_y)\n",
    "    y_pred, y_std = model.predict(x_1d, return_std=True)\n",
    "    return y_pred[i], y_std[i]"
   ]
  },
  {
   "cell_type": "code",
   "execution_count": 164,
   "metadata": {},
   "outputs": [],
   "source": [
    "manual_y = np.array([predict_manual_loocv_(i) for i in range(5)])"
   ]
  },
  {
   "cell_type": "code",
   "execution_count": 165,
   "metadata": {},
   "outputs": [],
   "source": [
    "model = GaussianProcessRegressor(random_state=0, optimizer=None, normalize_y=True, alpha=0.01).fit(x_1d, y_1d)"
   ]
  },
  {
   "cell_type": "code",
   "execution_count": null,
   "metadata": {},
   "outputs": [],
   "source": [
    "L_inv = solve_triangular( self.L_.T, np.eye(self.L_.shape[0]) )"
   ]
  },
  {
   "cell_type": "code",
   "execution_count": 172,
   "metadata": {},
   "outputs": [],
   "source": [
    "import scipy\n",
    "K = model.kernel_(x_1d)\n",
    "#y_1d_ = y_1d - y_1d.mean()\n",
    "K[np.diag_indices_from(K)] += 0.01\n",
    "I_mat = np.eye(K.shape[0])\n",
    "\n",
    "L_ = scipy.linalg.cholesky(K, lower=True)\n",
    "L_inv = scipy.linalg.solve_triangular(L_.T, np.eye(L_.shape[0]))\n",
    "K_inv = L_inv.dot(L_inv.T)\n",
    "\n",
    "#K_inv = scipy.linalg.cho_solve(scipy.linalg.cho_factor(K,lower=True), I_mat)\n",
    "#K_inv = np.linalg.inv(K) \n",
    "y_pred = y_1d - K_inv.dot(y_1d) / K_inv.diagonal().reshape(-1,1) \n",
    "y_std = np.sqrt(1/ K_inv.diagonal())"
   ]
  },
  {
   "cell_type": "code",
   "execution_count": 175,
   "metadata": {},
   "outputs": [
    {
     "data": {
      "text/plain": [
       "array([[1.00498756e+00, 0.00000000e+00, 0.00000000e+00, 0.00000000e+00,\n",
       "        0.00000000e+00],\n",
       "       [8.78117238e-01, 4.88784324e-01, 0.00000000e+00, 0.00000000e+00,\n",
       "        0.00000000e+00],\n",
       "       [1.34663640e-01, 4.22276234e-01, 9.01969227e-01, 0.00000000e+00,\n",
       "        0.00000000e+00],\n",
       "       [1.10538647e-02, 7.00315922e-02, 6.38014482e-01, 7.73246991e-01,\n",
       "        0.00000000e+00],\n",
       "       [2.56396915e-18, 4.14182075e-16, 2.53857588e-11, 1.96751923e-08,\n",
       "        1.00498756e+00]])"
      ]
     },
     "execution_count": 175,
     "metadata": {},
     "output_type": "execute_result"
    }
   ],
   "source": [
    "model.L_"
   ]
  },
  {
   "cell_type": "code",
   "execution_count": 174,
   "metadata": {},
   "outputs": [
    {
     "data": {
      "text/plain": [
       "array([[1.00498756e+00, 0.00000000e+00, 0.00000000e+00, 0.00000000e+00,\n",
       "        0.00000000e+00],\n",
       "       [8.78117238e-01, 4.88784324e-01, 0.00000000e+00, 0.00000000e+00,\n",
       "        0.00000000e+00],\n",
       "       [1.34663640e-01, 4.22276234e-01, 9.01969227e-01, 0.00000000e+00,\n",
       "        0.00000000e+00],\n",
       "       [1.10538647e-02, 7.00315922e-02, 6.38014482e-01, 7.73246991e-01,\n",
       "        0.00000000e+00],\n",
       "       [2.56396915e-18, 4.14182075e-16, 2.53857588e-11, 1.96751923e-08,\n",
       "        1.00498756e+00]])"
      ]
     },
     "execution_count": 174,
     "metadata": {},
     "output_type": "execute_result"
    }
   ],
   "source": [
    "L_"
   ]
  },
  {
   "cell_type": "code",
   "execution_count": 167,
   "metadata": {},
   "outputs": [
    {
     "data": {
      "text/plain": [
       "array([[array([2.37304219]), 0.4435945582622642],\n",
       "       [array([1.35730491]), 0.41574440015315856],\n",
       "       [array([11.52474496]), 0.6884927626672924],\n",
       "       [array([5.99506877]), 0.7667534864542424],\n",
       "       [array([2.80245391e-07]), 0.9999999999999998]], dtype=object)"
      ]
     },
     "execution_count": 167,
     "metadata": {},
     "output_type": "execute_result"
    }
   ],
   "source": [
    "manual_y"
   ]
  },
  {
   "cell_type": "code",
   "execution_count": 173,
   "metadata": {},
   "outputs": [
    {
     "data": {
      "text/plain": [
       "array([0.45472644, 0.42760192, 0.6957171 , 0.77324699, 1.00498756])"
      ]
     },
     "execution_count": 173,
     "metadata": {},
     "output_type": "execute_result"
    }
   ],
   "source": [
    "y_std"
   ]
  },
  {
   "cell_type": "code",
   "execution_count": 168,
   "metadata": {},
   "outputs": [
    {
     "data": {
      "text/plain": [
       "array([0.45472644, 0.42760192, 0.6957171 , 0.77324699, 1.00498756])"
      ]
     },
     "execution_count": 168,
     "metadata": {},
     "output_type": "execute_result"
    }
   ],
   "source": [
    "y_std"
   ]
  },
  {
   "cell_type": "code",
   "execution_count": 55,
   "metadata": {},
   "outputs": [
    {
     "data": {
      "text/plain": [
       "array([[2.37304219e+00],\n",
       "       [1.35730491e+00],\n",
       "       [1.15247450e+01],\n",
       "       [5.99506877e+00],\n",
       "       [2.80245388e-07]])"
      ]
     },
     "execution_count": 55,
     "metadata": {},
     "output_type": "execute_result"
    }
   ],
   "source": [
    "y_1d - K_inv.dot(y_1d) / K_inv.diagonal().reshape(-1,1)"
   ]
  },
  {
   "cell_type": "code",
   "execution_count": 73,
   "metadata": {},
   "outputs": [
    {
     "data": {
      "text/plain": [
       "26.2"
      ]
     },
     "execution_count": 73,
     "metadata": {},
     "output_type": "execute_result"
    }
   ],
   "source": [
    "y_1d.mean()"
   ]
  },
  {
   "cell_type": "code",
   "execution_count": null,
   "metadata": {},
   "outputs": [],
   "source": []
  }
 ],
 "metadata": {
  "kernelspec": {
   "display_name": "Python 3",
   "language": "python",
   "name": "python3"
  },
  "language_info": {
   "codemirror_mode": {
    "name": "ipython",
    "version": 3
   },
   "file_extension": ".py",
   "mimetype": "text/x-python",
   "name": "python",
   "nbconvert_exporter": "python",
   "pygments_lexer": "ipython3",
   "version": "3.7.6"
  }
 },
 "nbformat": 4,
 "nbformat_minor": 2
}
