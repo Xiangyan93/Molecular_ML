{
 "cells": [
  {
   "cell_type": "code",
   "execution_count": 59,
   "metadata": {},
   "outputs": [],
   "source": [
    "import pickle\n",
    "import sys\n",
    "sys.path.append('..')\n",
    "with open('../data/tt_subset.pkl','rb') as file:\n",
    "    data = pickle.load(file)"
   ]
  },
  {
   "cell_type": "code",
   "execution_count": 60,
   "metadata": {},
   "outputs": [],
   "source": [
    "X, y = data['graph'], data['tt']"
   ]
  },
  {
   "cell_type": "code",
   "execution_count": 11,
   "metadata": {},
   "outputs": [],
   "source": [
    "from app.kernel import *\n",
    "from app.smiles import *\n",
    "from app.ActiveLearning import *\n",
    "from app.Nystrom import NystromGaussianProcessRegressor\n",
    "kernel_config = KernelConfig(save_mem=False, property='tt')"
   ]
  },
  {
   "cell_type": "code",
   "execution_count": 22,
   "metadata": {},
   "outputs": [],
   "source": [
    "from sklearn.gaussian_process import GaussianProcessRegressor\n",
    "model = GaussianProcessRegressor(kernel=kernel_config.kernel, random_state=0, optimizer=None,\n",
    "                                            normalize_y=True, alpha=0.01).fit(X[:4], y[:4])"
   ]
  },
  {
   "cell_type": "code",
   "execution_count": 39,
   "metadata": {},
   "outputs": [],
   "source": [
    "def predict_manual_loocv(i):\n",
    "    train_X = np.delete(np.array(X), i)\n",
    "    train_y = np.delete(np.array(y), i)\n",
    "    model = GaussianProcessRegressor(kernel=kernel_config.kernel, random_state=0, optimizer=None,\n",
    "                                            normalize_y=True, alpha=0.01).fit(train_X, train_y)\n",
    "    y_pred, y_std = model.predict(X, return_std=True)\n",
    "    return y_pred[i], y_std[i]"
   ]
  },
  {
   "cell_type": "code",
   "execution_count": 32,
   "metadata": {},
   "outputs": [],
   "source": [
    "import scipy\n",
    "K = model.kernel_(X)\n",
    "K[np.diag_indices_from(K)] += 0.01\n",
    "I_mat = np.eye(K.shape[0])\n",
    "K_inv = scipy.linalg.cho_solve(scipy.linalg.cho_factor(K,lower=True), I_mat)\n",
    "#K_inv = np.linalg.inv(K) \n",
    "y_pred = y - K_inv.dot(y) / K_inv.diagonal()\n",
    "y_std = np.sqrt(1/ K_inv.diagonal())"
   ]
  },
  {
   "cell_type": "code",
   "execution_count": 33,
   "metadata": {},
   "outputs": [
    {
     "data": {
      "text/plain": [
       "(0    217.296661\n",
       " 1    224.961172\n",
       " 2    229.758814\n",
       " 3    145.204327\n",
       " 4    236.462419\n",
       " Name: tt, dtype: float64,\n",
       " array([0.14255205, 0.14698835, 0.12322945, 0.55479011, 0.55450834]))"
      ]
     },
     "execution_count": 33,
     "metadata": {},
     "output_type": "execute_result"
    }
   ],
   "source": [
    "# using loocv formula\n",
    "y_pred, y_std"
   ]
  },
  {
   "cell_type": "code",
   "execution_count": 42,
   "metadata": {},
   "outputs": [],
   "source": [
    "# using manual loop\n",
    "manual_y = np.array([predict_manual_loocv(i) for i in range(5)])"
   ]
  },
  {
   "cell_type": "code",
   "execution_count": 57,
   "metadata": {},
   "outputs": [],
   "source": [
    "df = pd.DataFrame({'Smiles':list(map(lambda x:x.smiles, X)), 'y':y, 'y_pred_loocv':y_pred, 'y_pred_loop':manual_y[:,0],'y_std_loocv':y_std, 'y_std_loop':manual_y[:,1]})"
   ]
  },
  {
   "cell_type": "code",
   "execution_count": 58,
   "metadata": {},
   "outputs": [
    {
     "data": {
      "text/html": [
       "<div>\n",
       "<style scoped>\n",
       "    .dataframe tbody tr th:only-of-type {\n",
       "        vertical-align: middle;\n",
       "    }\n",
       "\n",
       "    .dataframe tbody tr th {\n",
       "        vertical-align: top;\n",
       "    }\n",
       "\n",
       "    .dataframe thead th {\n",
       "        text-align: right;\n",
       "    }\n",
       "</style>\n",
       "<table border=\"1\" class=\"dataframe\">\n",
       "  <thead>\n",
       "    <tr style=\"text-align: right;\">\n",
       "      <th></th>\n",
       "      <th>Smiles</th>\n",
       "      <th>y</th>\n",
       "      <th>y_pred_loocv</th>\n",
       "      <th>y_pred_loop</th>\n",
       "      <th>y_std_loocv</th>\n",
       "      <th>y_std_loop</th>\n",
       "    </tr>\n",
       "  </thead>\n",
       "  <tbody>\n",
       "    <tr>\n",
       "      <th>0</th>\n",
       "      <td>CCCCCCCCCC</td>\n",
       "      <td>243.536</td>\n",
       "      <td>217.296661</td>\n",
       "      <td>219.139957</td>\n",
       "      <td>0.142552</td>\n",
       "      <td>0.101593</td>\n",
       "    </tr>\n",
       "    <tr>\n",
       "      <th>1</th>\n",
       "      <td>CCCCCCCC</td>\n",
       "      <td>216.418</td>\n",
       "      <td>224.961172</td>\n",
       "      <td>226.670629</td>\n",
       "      <td>0.146988</td>\n",
       "      <td>0.107729</td>\n",
       "    </tr>\n",
       "    <tr>\n",
       "      <th>2</th>\n",
       "      <td>CCCCCCCCC</td>\n",
       "      <td>219.680</td>\n",
       "      <td>229.758814</td>\n",
       "      <td>230.576508</td>\n",
       "      <td>0.123229</td>\n",
       "      <td>0.072010</td>\n",
       "    </tr>\n",
       "    <tr>\n",
       "      <th>3</th>\n",
       "      <td>c1ccccc1</td>\n",
       "      <td>278.674</td>\n",
       "      <td>145.204327</td>\n",
       "      <td>185.644210</td>\n",
       "      <td>0.554790</td>\n",
       "      <td>0.545703</td>\n",
       "    </tr>\n",
       "    <tr>\n",
       "      <th>4</th>\n",
       "      <td>Cc1ccccc1</td>\n",
       "      <td>178.188</td>\n",
       "      <td>236.462419</td>\n",
       "      <td>269.730480</td>\n",
       "      <td>0.554508</td>\n",
       "      <td>0.545417</td>\n",
       "    </tr>\n",
       "  </tbody>\n",
       "</table>\n",
       "</div>"
      ],
      "text/plain": [
       "       Smiles        y  y_pred_loocv  y_pred_loop  y_std_loocv  y_std_loop\n",
       "0  CCCCCCCCCC  243.536    217.296661   219.139957     0.142552    0.101593\n",
       "1    CCCCCCCC  216.418    224.961172   226.670629     0.146988    0.107729\n",
       "2   CCCCCCCCC  219.680    229.758814   230.576508     0.123229    0.072010\n",
       "3    c1ccccc1  278.674    145.204327   185.644210     0.554790    0.545703\n",
       "4   Cc1ccccc1  178.188    236.462419   269.730480     0.554508    0.545417"
      ]
     },
     "execution_count": 58,
     "metadata": {},
     "output_type": "execute_result"
    }
   ],
   "source": [
    "df"
   ]
  },
  {
   "cell_type": "code",
   "execution_count": null,
   "metadata": {},
   "outputs": [],
   "source": []
  }
 ],
 "metadata": {
  "kernelspec": {
   "display_name": "Python 3",
   "language": "python",
   "name": "python3"
  },
  "language_info": {
   "codemirror_mode": {
    "name": "ipython",
    "version": 3
   },
   "file_extension": ".py",
   "mimetype": "text/x-python",
   "name": "python",
   "nbconvert_exporter": "python",
   "pygments_lexer": "ipython3",
   "version": "3.7.6"
  }
 },
 "nbformat": 4,
 "nbformat_minor": 2
}
