{
 "cells": [
  {
   "cell_type": "code",
   "execution_count": 1,
   "metadata": {},
   "outputs": [],
   "source": [
    "# import data\n",
    "import numpy as np\n",
    "import pandas as pd\n",
    "from graphdot import Graph\n",
    "from graphdot.kernel.marginalized import MarginalizedGraphKernel\n",
    "from graphdot.kernel.basekernel import TensorProduct\n",
    "from graphdot.kernel.basekernel import SquareExponential\n",
    "from graphdot.kernel.basekernel import KroneckerDelta\n",
    "import matplotlib.pyplot as plt\n",
    "from sklearn.gaussian_process import GaussianProcessRegressor\n",
    "from sklearn.preprocessing import StandardScaler\n",
    "from sklearn.metrics import mean_squared_error\n",
    "from sklearn.metrics import explained_variance_score\n",
    "import matplotlib.pyplot as plt\n",
    "from sklearn.model_selection import train_test_split\n",
    "from sklearn.preprocessing import scale"
   ]
  },
  {
   "cell_type": "code",
   "execution_count": 2,
   "metadata": {},
   "outputs": [],
   "source": [
    "def evaluate(df,target,model,plot=True):\n",
    "    y_pred = model.predict(df['graph'])\n",
    "    if plot:\n",
    "        plt.scatter(y_pred, df[target], s=2)\n",
    "        plt.title(target + ' prediction')\n",
    "        plt.plot([df[target].min(), df[target].max()],[df[target].min(), df[target].max()])\n",
    "        plt.xlabel('simulation')\n",
    "        plt.ylabel('prediction')\n",
    "    # R2\n",
    "    r2 = model.score(df['graph'],df[target])\n",
    "    # MSE\n",
    "    mse = mean_squared_error(y_pred, df[target])\n",
    "    # variance explained\n",
    "    ex_var = explained_variance_score(y_pred, df[target])\n",
    "    print(\"R-square:%.3f\\tMSE:%.3g\\texplained_variance:%.3f\" % (r2, mse, ex_var))\n",
    "    return {'r2':r2, 'mse':mse, 'ex_var':ex_var}"
   ]
  },
  {
   "cell_type": "code",
   "execution_count": 3,
   "metadata": {},
   "outputs": [
    {
     "name": "stderr",
     "output_type": "stream",
     "text": [
      "RDKit WARNING: [00:28:30] Enabling RDKit 2019.09.3 jupyter extensions\n"
     ]
    }
   ],
   "source": [
    "import networkx as nx\n",
    "from rdkit.Chem import MolFromSmiles\n",
    "def smile2graph(smile):\n",
    "    mol = MolFromSmiles(smile)\n",
    "\n",
    "    if mol is not None:\n",
    "        g = nx.Graph()\n",
    "\n",
    "        for i, atom in enumerate(mol.GetAtoms()):\n",
    "            g.add_node(i)\n",
    "            #g.nodes[i]['symbol'] = atom.GetAtomicNum()\n",
    "            g.nodes[i]['charge'] = atom.GetFormalCharge()\n",
    "            g.nodes[i]['hcount'] = atom.GetTotalNumHs()\n",
    "            g.nodes[i]['hybridization'] = atom.GetHybridization()\n",
    "            g.nodes[i]['aromatic'] = atom.GetIsAromatic()\n",
    "            g.nodes[i]['chiral'] = atom.GetChiralTag()\n",
    "\n",
    "        for bond in mol.GetBonds():\n",
    "            ij = (bond.GetBeginAtomIdx(), bond.GetEndAtomIdx())\n",
    "            g.add_edge(*ij)\n",
    "            g.edges[ij]['order'] = bond.GetBondType()\n",
    "            g.edges[ij]['aromatic'] = bond.GetIsAromatic()\n",
    "            g.edges[ij]['conjugated'] = bond.GetIsConjugated()\n",
    "            g.edges[ij]['stereo'] = bond.GetStereo()\n",
    "            g.edges[ij]['inring'] = bond.IsInRing()\n",
    "\n",
    "        return Graph.from_networkx(g)\n",
    "    else:\n",
    "        return None"
   ]
  },
  {
   "cell_type": "code",
   "execution_count": 35,
   "metadata": {},
   "outputs": [],
   "source": [
    "# defining kernel\n",
    "class NormalizedKernel(MarginalizedGraphKernel):\n",
    "    def __init__(self, *args, **kwargs):\n",
    "        super().__init__(*args, **kwargs)\n",
    "    def __normalize(self, X, Y, R):\n",
    "        if type(R) is tuple:\n",
    "            d = np.diag(R[0])**-0.5\n",
    "            K = np.diag(d).dot(R[0]).dot(np.diag(d))\n",
    "            return (K, R[1])\n",
    "        else:\n",
    "            if Y is None:\n",
    "                # square matrix\n",
    "                d = np.diag(R)**-0.5\n",
    "                K = np.diag(d).dot(R).dot(np.diag(d))\n",
    "            else:\n",
    "                # rectangular matrix, must have X and Y\n",
    "                diag_X = super().diag(X)**-0.5\n",
    "                diag_Y = super().diag(Y)**-0.5\n",
    "                K = np.diag(diag_X).dot(R).dot(np.diag(diag_Y))\n",
    "            return K\n",
    "    def __call__(self, X, Y=None, *args, **kwargs):\n",
    "        R = super().__call__(X, Y, *args, **kwargs)\n",
    "        return self.__normalize(X, Y, R)\n",
    "\n",
    "#initializing kernel\n",
    "knode = TensorProduct(aromatic=KroneckerDelta(0.8),\n",
    "                      charge=SquareExponential(1.0),\n",
    "                      hcount=SquareExponential(1.0))\n",
    "\n",
    "kedge = TensorProduct(order=KroneckerDelta(0.5))\n",
    "\n",
    "normal_kernel = NormalizedKernel(knode, kedge, q=0.05)\n",
    "kernel = MarginalizedGraphKernel(knode, kedge, q=0.05)"
   ]
  },
  {
   "cell_type": "code",
   "execution_count": 6,
   "metadata": {},
   "outputs": [],
   "source": [
    "df = pd.read_csv('../data/result-ML-CH-critical.txt', sep=' ')\n",
    "df['graph'] = [smile2graph(i) for i in df['SMILES']]"
   ]
  },
  {
   "cell_type": "code",
   "execution_count": 7,
   "metadata": {},
   "outputs": [
    {
     "data": {
      "text/html": [
       "<div>\n",
       "<style scoped>\n",
       "    .dataframe tbody tr th:only-of-type {\n",
       "        vertical-align: middle;\n",
       "    }\n",
       "\n",
       "    .dataframe tbody tr th {\n",
       "        vertical-align: top;\n",
       "    }\n",
       "\n",
       "    .dataframe thead th {\n",
       "        text-align: right;\n",
       "    }\n",
       "</style>\n",
       "<table border=\"1\" class=\"dataframe\">\n",
       "  <thead>\n",
       "    <tr style=\"text-align: right;\">\n",
       "      <th></th>\n",
       "      <th>SMILES</th>\n",
       "      <th>tc</th>\n",
       "      <th>dc</th>\n",
       "      <th>graph</th>\n",
       "    </tr>\n",
       "  </thead>\n",
       "  <tbody>\n",
       "    <tr>\n",
       "      <th>0</th>\n",
       "      <td>CCCC</td>\n",
       "      <td>414.5</td>\n",
       "      <td>0.2269</td>\n",
       "      <td>&lt;Graph(nodes={'!i': [0,1,2,3], 'aromatic': [Fa...</td>\n",
       "    </tr>\n",
       "    <tr>\n",
       "      <th>1</th>\n",
       "      <td>CC(C)C</td>\n",
       "      <td>407.2</td>\n",
       "      <td>0.2291</td>\n",
       "      <td>&lt;Graph(nodes={'!i': [0,1,2,3], 'aromatic': [Fa...</td>\n",
       "    </tr>\n",
       "    <tr>\n",
       "      <th>2</th>\n",
       "      <td>CCCCC</td>\n",
       "      <td>459.5</td>\n",
       "      <td>0.2320</td>\n",
       "      <td>&lt;Graph(nodes={'!i': [0,1,2,3,4], 'aromatic': [...</td>\n",
       "    </tr>\n",
       "    <tr>\n",
       "      <th>3</th>\n",
       "      <td>CCC(C)C</td>\n",
       "      <td>455.0</td>\n",
       "      <td>0.2328</td>\n",
       "      <td>&lt;Graph(nodes={'!i': [0,1,2,3,4], 'aromatic': [...</td>\n",
       "    </tr>\n",
       "    <tr>\n",
       "      <th>4</th>\n",
       "      <td>CC(C)(C)C</td>\n",
       "      <td>435.9</td>\n",
       "      <td>0.2366</td>\n",
       "      <td>&lt;Graph(nodes={'!i': [0,1,2,3,4], 'aromatic': [...</td>\n",
       "    </tr>\n",
       "  </tbody>\n",
       "</table>\n",
       "</div>"
      ],
      "text/plain": [
       "      SMILES     tc      dc                                              graph\n",
       "0       CCCC  414.5  0.2269  <Graph(nodes={'!i': [0,1,2,3], 'aromatic': [Fa...\n",
       "1     CC(C)C  407.2  0.2291  <Graph(nodes={'!i': [0,1,2,3], 'aromatic': [Fa...\n",
       "2      CCCCC  459.5  0.2320  <Graph(nodes={'!i': [0,1,2,3,4], 'aromatic': [...\n",
       "3    CCC(C)C  455.0  0.2328  <Graph(nodes={'!i': [0,1,2,3,4], 'aromatic': [...\n",
       "4  CC(C)(C)C  435.9  0.2366  <Graph(nodes={'!i': [0,1,2,3,4], 'aromatic': [..."
      ]
     },
     "execution_count": 7,
     "metadata": {},
     "output_type": "execute_result"
    }
   ],
   "source": [
    "df.head()"
   ]
  },
  {
   "cell_type": "code",
   "execution_count": 9,
   "metadata": {},
   "outputs": [],
   "source": [
    "from sklearn.preprocessing import StandardScaler\n",
    "\n",
    "scaler = StandardScaler()"
   ]
  },
  {
   "cell_type": "code",
   "execution_count": 21,
   "metadata": {},
   "outputs": [
    {
     "data": {
      "text/plain": [
       "1.0"
      ]
     },
     "execution_count": 21,
     "metadata": {},
     "output_type": "execute_result"
    }
   ],
   "source": [
    "scaler.fit_transform(np.array(df['dc']).reshape(-1,1)).std()"
   ]
  },
  {
   "cell_type": "code",
   "execution_count": 29,
   "metadata": {},
   "outputs": [
    {
     "data": {
      "text/plain": [
       "array([24882.03309324, 24443.55115234, 27585.00396185, ...,\n",
       "       32071.93560374, 30864.60861576, 34744.87346269])"
      ]
     },
     "execution_count": 29,
     "metadata": {},
     "output_type": "execute_result"
    }
   ],
   "source": [
    "scaler.transform(df['tc'].values.reshape(-1,1)).flatten()"
   ]
  },
  {
   "cell_type": "markdown",
   "metadata": {},
   "source": [
    "# einsum/broadcast test"
   ]
  },
  {
   "cell_type": "code",
   "execution_count": 30,
   "metadata": {},
   "outputs": [],
   "source": [
    "# load some real data"
   ]
  },
  {
   "cell_type": "code",
   "execution_count": 65,
   "metadata": {
    "scrolled": true
   },
   "outputs": [],
   "source": [
    "df = pd.read_csv('../data/result-ML-All-critical.txt', sep=' ')\n",
    "df['graph'] = df['SMILES'].apply(smile2graph)"
   ]
  },
  {
   "cell_type": "code",
   "execution_count": 67,
   "metadata": {},
   "outputs": [
    {
     "data": {
      "text/plain": [
       "3617"
      ]
     },
     "execution_count": 67,
     "metadata": {},
     "output_type": "execute_result"
    }
   ],
   "source": [
    "len(df['graph'])"
   ]
  },
  {
   "cell_type": "code",
   "execution_count": 82,
   "metadata": {},
   "outputs": [
    {
     "name": "stdout",
     "output_type": "stream",
     "text": [
      "29.2 s ± 194 ms per loop (mean ± std. dev. of 7 runs, 1 loop each)\n"
     ]
    }
   ],
   "source": [
    "%timeit a_kernel = kernel(list(df['graph']))"
   ]
  },
  {
   "cell_type": "code",
   "execution_count": 69,
   "metadata": {},
   "outputs": [],
   "source": [
    "diag_d = np.diag(a_kernel) ** -0.5"
   ]
  },
  {
   "cell_type": "code",
   "execution_count": 71,
   "metadata": {},
   "outputs": [
    {
     "name": "stdout",
     "output_type": "stream",
     "text": [
      "18.8 ms ± 74.5 µs per loop (mean ± std. dev. of 7 runs, 100 loops each)\n"
     ]
    }
   ],
   "source": [
    "#einsum\n",
    "%timeit K = np.einsum(\"ij,i,j->ij\", a_kernel, diag_d, diag_d)"
   ]
  },
  {
   "cell_type": "code",
   "execution_count": 81,
   "metadata": {},
   "outputs": [
    {
     "name": "stdout",
     "output_type": "stream",
     "text": [
      "21.2 ms ± 264 µs per loop (mean ± std. dev. of 7 runs, 10 loops each)\n"
     ]
    }
   ],
   "source": [
    "#broadcasting\n",
    "%timeit K = diag_d * a_kernel * diag_d"
   ]
  },
  {
   "cell_type": "code",
   "execution_count": 73,
   "metadata": {},
   "outputs": [],
   "source": [
    "a = np.array([[10,2],[4,9]])"
   ]
  },
  {
   "cell_type": "code",
   "execution_count": 76,
   "metadata": {},
   "outputs": [],
   "source": [
    "d_a = np.diag(a) ** -0.5"
   ]
  },
  {
   "cell_type": "code",
   "execution_count": 77,
   "metadata": {},
   "outputs": [
    {
     "data": {
      "text/plain": [
       "array([[10,  2],\n",
       "       [ 4,  9]])"
      ]
     },
     "execution_count": 77,
     "metadata": {},
     "output_type": "execute_result"
    }
   ],
   "source": [
    "a"
   ]
  },
  {
   "cell_type": "code",
   "execution_count": 80,
   "metadata": {},
   "outputs": [
    {
     "data": {
      "text/plain": [
       "array([[1.        , 0.21081851],\n",
       "       [0.42163702, 1.        ]])"
      ]
     },
     "execution_count": 80,
     "metadata": {},
     "output_type": "execute_result"
    }
   ],
   "source": [
    "%timeit d_a * a * d_a.reshape(-1,1)"
   ]
  },
  {
   "cell_type": "code",
   "execution_count": null,
   "metadata": {},
   "outputs": [],
   "source": []
  },
  {
   "cell_type": "code",
   "execution_count": 86,
   "metadata": {},
   "outputs": [
    {
     "data": {
      "text/plain": [
       "<matplotlib.image.AxesImage at 0x7f7045476210>"
      ]
     },
     "execution_count": 86,
     "metadata": {},
     "output_type": "execute_result"
    },
    {
     "data": {
      "image/png": "[encoded data removed]",
      "text/plain": [
       "<Figure size 576x576 with 1 Axes>"
      ]
     },
     "metadata": {
      "needs_background": "light"
     },
     "output_type": "display_data"
    }
   ],
   "source": [
    "plt.figure(figsize=(8,8))\n",
    "plt.imshow(K, cmap=plt.cm.gray)"
   ]
  },
  {
   "cell_type": "code",
   "execution_count": null,
   "metadata": {},
   "outputs": [],
   "source": []
  }
 ],
 "metadata": {
  "kernelspec": {
   "display_name": "Python 3",
   "language": "python",
   "name": "python3"
  },
  "language_info": {
   "codemirror_mode": {
    "name": "ipython",
    "version": 3
   },
   "file_extension": ".py",
   "mimetype": "text/x-python",
   "name": "python",
   "nbconvert_exporter": "python",
   "pygments_lexer": "ipython3",
   "version": "3.7.6"
  }
 },
 "nbformat": 4,
 "nbformat_minor": 2
}
