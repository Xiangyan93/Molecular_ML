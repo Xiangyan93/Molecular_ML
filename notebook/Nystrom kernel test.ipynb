{
 "cells": [
  {
   "cell_type": "code",
   "execution_count": 128,
   "metadata": {},
   "outputs": [],
   "source": [
    "import sys\n",
    "sys.path.append(\"..\")\n",
    "import pandas as pd\n",
    "from app import kernel\n",
    "from app import smiles\n",
    "import numpy as np\n",
    "from sklearn.cluster import SpectralClustering\n",
    "from sklearn.manifold import SpectralEmbedding\n",
    "from sklearn.gaussian_process import GaussianProcessRegressor\n",
    "from matplotlib import pyplot as plt\n",
    "from sklearn.metrics import r2_score\n",
    "from sklearn.metrics import mean_squared_error\n",
    "from sklearn.model_selection import train_test_split"
   ]
  },
  {
   "cell_type": "code",
   "execution_count": 3,
   "metadata": {
    "scrolled": true
   },
   "outputs": [],
   "source": [
    "df = pd.read_csv('../data/result-ML-All-critical.txt', sep=' ')\n",
    "\n",
    "graph_list = [smiles.smiles2graph(i) for i in df['SMILES']]\n",
    "df['graph'] = graph_list"
   ]
  },
  {
   "cell_type": "code",
   "execution_count": 136,
   "metadata": {},
   "outputs": [],
   "source": [
    "graph_list_n = np.array(graph_list[:1000])"
   ]
  },
  {
   "cell_type": "markdown",
   "metadata": {},
   "source": [
    "# direct computation of kernel"
   ]
  },
  {
   "cell_type": "code",
   "execution_count": 118,
   "metadata": {},
   "outputs": [
    {
     "name": "stdout",
     "output_type": "stream",
     "text": [
      "29.1 s ± 434 ms per loop (mean ± std. dev. of 7 runs, 1 loop each)\n"
     ]
    }
   ],
   "source": [
    "%timeit Knn_direct_3000 = graph_kernel(graph_list)"
   ]
  },
  {
   "cell_type": "code",
   "execution_count": 124,
   "metadata": {},
   "outputs": [
    {
     "name": "stdout",
     "output_type": "stream",
     "text": [
      "7.7 s ± 9.5 ms per loop (mean ± std. dev. of 7 runs, 1 loop each)\n"
     ]
    }
   ],
   "source": [
    "%timeit Knn_direct_2000 = graph_kernel(graph_list[:2000])"
   ]
  },
  {
   "cell_type": "code",
   "execution_count": 120,
   "metadata": {},
   "outputs": [
    {
     "name": "stdout",
     "output_type": "stream",
     "text": [
      "1.74 s ± 9.58 ms per loop (mean ± std. dev. of 7 runs, 1 loop each)\n"
     ]
    }
   ],
   "source": [
    "%timeit Knn_direct_1000 = graph_kernel(graph_list_n)"
   ]
  },
  {
   "cell_type": "code",
   "execution_count": 123,
   "metadata": {},
   "outputs": [
    {
     "name": "stdout",
     "output_type": "stream",
     "text": [
      "442 ms ± 5.21 ms per loop (mean ± std. dev. of 7 runs, 1 loop each)\n"
     ]
    }
   ],
   "source": [
    "%timeit Knn_direct_500 = graph_kernel(graph_list_n[np.random.randint(0,1000,500)])"
   ]
  },
  {
   "cell_type": "markdown",
   "metadata": {},
   "source": [
    "# random projection of m=100"
   ]
  },
  {
   "cell_type": "code",
   "execution_count": 121,
   "metadata": {},
   "outputs": [
    {
     "name": "stdout",
     "output_type": "stream",
     "text": [
      "229 ms ± 3.02 ms per loop (mean ± std. dev. of 7 runs, 1 loop each)\n"
     ]
    }
   ],
   "source": [
    "%timeit Kmm = graph_kernel(graph_list_m, graph_list_m)"
   ]
  },
  {
   "cell_type": "code",
   "execution_count": 217,
   "metadata": {},
   "outputs": [],
   "source": [
    "idx_list_m = []\n",
    "for i in range(10):\n",
    "    idx_list_m.append(cluster_old(graph_list_n[100*i:100*i+100], 20))"
   ]
  },
  {
   "cell_type": "code",
   "execution_count": 160,
   "metadata": {},
   "outputs": [],
   "source": [
    "graph_list_m = cluster_old(graph_list_n[np.array(idx_list_m).reshape(-1)])"
   ]
  },
  {
   "cell_type": "code",
   "execution_count": 180,
   "metadata": {},
   "outputs": [],
   "source": [
    "Kmm[Kmm > 0.999] = 0"
   ]
  },
  {
   "cell_type": "code",
   "execution_count": 181,
   "metadata": {},
   "outputs": [
    {
     "data": {
      "text/plain": [
       "array([[0.        , 0.4188233 , 0.7606968 , ..., 0.90628403, 0.48916414,\n",
       "        0.4258283 ],\n",
       "       [0.4188233 , 0.        , 0.6758113 , ..., 0.26975504, 0.9038005 ,\n",
       "        0.96963274],\n",
       "       [0.7606969 , 0.6758113 , 0.        , ..., 0.5749801 , 0.6511051 ,\n",
       "        0.62904036],\n",
       "       ...,\n",
       "       [0.90628386, 0.269755  , 0.5749801 , ..., 0.        , 0.36811525,\n",
       "        0.29391584],\n",
       "       [0.48916414, 0.9038004 , 0.6511051 , ..., 0.36811528, 0.        ,\n",
       "        0.93660164],\n",
       "       [0.4258283 , 0.96963274, 0.62904036, ..., 0.2939158 , 0.93660164,\n",
       "        0.        ]], dtype=float32)"
      ]
     },
     "execution_count": 181,
     "metadata": {},
     "output_type": "execute_result"
    }
   ],
   "source": [
    "Kmm"
   ]
  },
  {
   "cell_type": "code",
   "execution_count": 182,
   "metadata": {},
   "outputs": [
    {
     "data": {
      "text/plain": [
       "True"
      ]
     },
     "execution_count": 182,
     "metadata": {},
     "output_type": "execute_result"
    }
   ],
   "source": [
    "(Kmm > 0.9).any()"
   ]
  },
  {
   "cell_type": "code",
   "execution_count": 161,
   "metadata": {},
   "outputs": [],
   "source": [
    "Knm = graph_kernel(graph_list_n, graph_list_m)\n",
    "Kmm = graph_kernel(graph_list_m, graph_list_m)\n",
    "Kmm_inv = np.linalg.inv(Kmm)\n",
    "Knn_rp = Knm.dot(Kmm_inv).dot(Knm.T)"
   ]
  },
  {
   "cell_type": "code",
   "execution_count": 47,
   "metadata": {},
   "outputs": [
    {
     "name": "stdout",
     "output_type": "stream",
     "text": [
      "113 µs ± 1.83 µs per loop (mean ± std. dev. of 7 runs, 10000 loops each)\n"
     ]
    }
   ],
   "source": [
    "%timeit np.linalg.inv(Kmm)"
   ]
  },
  {
   "cell_type": "code",
   "execution_count": 48,
   "metadata": {},
   "outputs": [
    {
     "name": "stdout",
     "output_type": "stream",
     "text": [
      "1.03 ms ± 17.2 µs per loop (mean ± std. dev. of 7 runs, 1000 loops each)\n"
     ]
    }
   ],
   "source": [
    "%timeit np.linalg.pinv(Kmm)"
   ]
  },
  {
   "cell_type": "code",
   "execution_count": 82,
   "metadata": {},
   "outputs": [
    {
     "data": {
      "text/plain": [
       "(1000, 1000)"
      ]
     },
     "execution_count": 82,
     "metadata": {},
     "output_type": "execute_result"
    }
   ],
   "source": [
    "Knn.shape"
   ]
  },
  {
   "cell_type": "code",
   "execution_count": 83,
   "metadata": {},
   "outputs": [],
   "source": [
    "Knn_direct = graph_kernel(graph_list_n)"
   ]
  },
  {
   "cell_type": "code",
   "execution_count": 162,
   "metadata": {},
   "outputs": [
    {
     "data": {
      "text/plain": [
       "array([[nan, nan, nan, ..., nan, nan, nan],\n",
       "       [nan, nan, nan, ..., nan, nan, nan],\n",
       "       [nan, nan, nan, ..., nan, nan, nan],\n",
       "       ...,\n",
       "       [nan, nan, nan, ..., nan, nan, nan],\n",
       "       [nan, nan, nan, ..., nan, nan, nan],\n",
       "       [nan, nan, nan, ..., nan, nan, nan]], dtype=float32)"
      ]
     },
     "execution_count": 162,
     "metadata": {},
     "output_type": "execute_result"
    }
   ],
   "source": [
    "Knn_rp"
   ]
  },
  {
   "cell_type": "code",
   "execution_count": 129,
   "metadata": {},
   "outputs": [],
   "source": [
    "def cluster_old(X, add_size=10):\n",
    "    ''' find representative samples from a pool using clustering method\n",
    "    :X: a list of graphs\n",
    "    :add_sample_size: add sample size\n",
    "    :return: list of idx\n",
    "    '''\n",
    "    # train SpectralClustering on X\n",
    "    if len(X) < add_size:\n",
    "        return [ i for i in range( len(X))]\n",
    "    gram_matrix = graph_kernel(X)\n",
    "    result = SpectralClustering(n_clusters=add_size, affinity='precomputed').fit_predict(gram_matrix) # cluster result\n",
    "    # distance matrix\n",
    "    #distance_mat = np.empty_like(gram_matrix)\n",
    "    #for i in range(len(X)):\n",
    "    #    for j in range(len(X)):\n",
    "    #        distance_mat[i][j] = np.sqrt(abs(gram_matrix[i][i] + gram_matrix[j][j] - 2 * gram_matrix[i][j]))\n",
    "    # choose the one with least in cluster distance sum in each cluster\n",
    "    total_distance = {i:{} for i in range(add_size)} # (key: cluster_idx, val: dict of (key:sum of distance, val:idx))\n",
    "    for i in range(len(X)): # get all in-class distance sum of each item\n",
    "        cluster_class = result[i]\n",
    "        #total_distance[cluster_class][np.sum((np.array(result) == cluster_class) * distance_mat[i])] = i\n",
    "        total_distance[cluster_class][np.sum((np.array(result) == cluster_class) * 1/gram_matrix[i])] = i\n",
    "    add_idx = [total_distance[i][min(total_distance[i].keys())] for i in range(add_size)] # find min-in-cluster-distance associated idx\n",
    "    return add_idx"
   ]
  },
  {
   "cell_type": "code",
   "execution_count": 251,
   "metadata": {
    "scrolled": true
   },
   "outputs": [],
   "source": [
    "graph_subset = graph_list_n[np.random.randint(0,1000,400)]\n",
    "Kmm = graph_kernel(graph_subset[np.array(cluster_old(graph_subset, 40))])"
   ]
  },
  {
   "cell_type": "code",
   "execution_count": 252,
   "metadata": {},
   "outputs": [
    {
     "data": {
      "text/plain": [
       "3.573724051744206e-11"
      ]
     },
     "execution_count": 252,
     "metadata": {},
     "output_type": "execute_result"
    }
   ],
   "source": [
    "((np.linalg.inv(Kmm).dot(Kmm) - np.eye(40))**2).mean()"
   ]
  },
  {
   "cell_type": "code",
   "execution_count": 241,
   "metadata": {},
   "outputs": [],
   "source": [
    "Kmm_2 = graph_kernel(graph_list_n[np.random.randint(0,1000,40)])"
   ]
  },
  {
   "cell_type": "code",
   "execution_count": 242,
   "metadata": {},
   "outputs": [
    {
     "data": {
      "text/plain": [
       "5.697758773109678e-08"
      ]
     },
     "execution_count": 242,
     "metadata": {},
     "output_type": "execute_result"
    }
   ],
   "source": [
    "((np.linalg.inv(Kmm_2).dot(Kmm_2) - np.eye(40))**2).sum()\n"
   ]
  },
  {
   "cell_type": "code",
   "execution_count": 8,
   "metadata": {},
   "outputs": [
    {
     "data": {
      "text/html": [
       "<div>\n",
       "<style scoped>\n",
       "    .dataframe tbody tr th:only-of-type {\n",
       "        vertical-align: middle;\n",
       "    }\n",
       "\n",
       "    .dataframe tbody tr th {\n",
       "        vertical-align: top;\n",
       "    }\n",
       "\n",
       "    .dataframe thead th {\n",
       "        text-align: right;\n",
       "    }\n",
       "</style>\n",
       "<table border=\"1\" class=\"dataframe\">\n",
       "  <thead>\n",
       "    <tr style=\"text-align: right;\">\n",
       "      <th></th>\n",
       "      <th>SMILES</th>\n",
       "      <th>tc</th>\n",
       "      <th>dc</th>\n",
       "      <th>graph</th>\n",
       "    </tr>\n",
       "  </thead>\n",
       "  <tbody>\n",
       "    <tr>\n",
       "      <th>0</th>\n",
       "      <td>CCCC</td>\n",
       "      <td>414.5</td>\n",
       "      <td>0.2269</td>\n",
       "      <td>&lt;GraphE(nodes={'!i': [0,1,2,3], 'aromatic': [F...</td>\n",
       "    </tr>\n",
       "    <tr>\n",
       "      <th>1</th>\n",
       "      <td>CC(C)C</td>\n",
       "      <td>407.2</td>\n",
       "      <td>0.2291</td>\n",
       "      <td>&lt;GraphE(nodes={'!i': [0,1,2,3], 'aromatic': [F...</td>\n",
       "    </tr>\n",
       "    <tr>\n",
       "      <th>2</th>\n",
       "      <td>CCCCC</td>\n",
       "      <td>459.5</td>\n",
       "      <td>0.2320</td>\n",
       "      <td>&lt;GraphE(nodes={'!i': [0,1,2,3,4], 'aromatic': ...</td>\n",
       "    </tr>\n",
       "    <tr>\n",
       "      <th>3</th>\n",
       "      <td>CCC(C)C</td>\n",
       "      <td>455.0</td>\n",
       "      <td>0.2328</td>\n",
       "      <td>&lt;GraphE(nodes={'!i': [0,1,2,3,4], 'aromatic': ...</td>\n",
       "    </tr>\n",
       "    <tr>\n",
       "      <th>4</th>\n",
       "      <td>CC(C)(C)C</td>\n",
       "      <td>435.9</td>\n",
       "      <td>0.2366</td>\n",
       "      <td>&lt;GraphE(nodes={'!i': [0,1,2,3,4], 'aromatic': ...</td>\n",
       "    </tr>\n",
       "  </tbody>\n",
       "</table>\n",
       "</div>"
      ],
      "text/plain": [
       "      SMILES     tc      dc                                              graph\n",
       "0       CCCC  414.5  0.2269  <GraphE(nodes={'!i': [0,1,2,3], 'aromatic': [F...\n",
       "1     CC(C)C  407.2  0.2291  <GraphE(nodes={'!i': [0,1,2,3], 'aromatic': [F...\n",
       "2      CCCCC  459.5  0.2320  <GraphE(nodes={'!i': [0,1,2,3,4], 'aromatic': ...\n",
       "3    CCC(C)C  455.0  0.2328  <GraphE(nodes={'!i': [0,1,2,3,4], 'aromatic': ...\n",
       "4  CC(C)(C)C  435.9  0.2366  <GraphE(nodes={'!i': [0,1,2,3,4], 'aromatic': ..."
      ]
     },
     "execution_count": 8,
     "metadata": {},
     "output_type": "execute_result"
    }
   ],
   "source": [
    "df.head()"
   ]
  },
  {
   "cell_type": "markdown",
   "metadata": {},
   "source": [
    "# simple alpha test"
   ]
  },
  {
   "cell_type": "code",
   "execution_count": 142,
   "metadata": {},
   "outputs": [],
   "source": [
    "df = pd.read_csv('../data/result-ML-All-critical.txt', sep=' ')\n",
    "\n",
    "graph_list = [smiles.smiles2graph(i) for i in df['SMILES']]\n",
    "df['graph'] = graph_list"
   ]
  },
  {
   "cell_type": "code",
   "execution_count": 153,
   "metadata": {},
   "outputs": [],
   "source": [
    "from graphdot.kernel.marginalized import MarginalizedGraphKernel\n",
    "from graphdot.kernel.basekernel import TensorProduct\n",
    "from graphdot.kernel.basekernel import SquareExponential\n",
    "from graphdot.kernel.basekernel import KroneckerDelta\n",
    "\n",
    "class NormalizedKernelGrad(MarginalizedGraphKernel):\n",
    "    def __init__(self, *args, **kwargs):\n",
    "        super().__init__(*args, **kwargs)\n",
    "\n",
    "    def __normalize(self, X, Y, R):\n",
    "        if Y is None:\n",
    "            # square matrix\n",
    "            if type(R) is tuple:\n",
    "                d = np.diag(R[0]) ** -0.5\n",
    "                K = np.diag(d).dot(R[0]).dot(np.diag(d))\n",
    "                K_gradient = np.einsum(\"ijk,i,j->ijk\", R[1], d, d)\n",
    "                return K, R[1]# K_gradient\n",
    "            else:\n",
    "                d = np.diag(R) ** -0.5\n",
    "                K = np.diag(d).dot(R).dot(np.diag(d))\n",
    "                return K\n",
    "        else:\n",
    "            # rectangular matrix, must have X and Y\n",
    "            if type(R) is tuple:\n",
    "                diag_X = super().diag(X) ** -0.5\n",
    "                diag_Y = super().diag(Y) ** -0.5\n",
    "                K = np.diag(diag_X).dot(R[0]).dot(np.diag(diag_Y))\n",
    "                K_gradient = np.einsum(\"ijk,i,j->ijk\", R[1], diag_X, diag_Y)\n",
    "                return K, R[1] #K_gradient\n",
    "            else:\n",
    "                diag_X = super().diag(X) ** -0.5\n",
    "                diag_Y = super().diag(Y) ** -0.5\n",
    "                K = np.diag(diag_X).dot(R).dot(np.diag(diag_Y))\n",
    "                return K\n",
    "\n",
    "    def __call__(self, X, Y=None, *args, **kwargs):\n",
    "        R = super().__call__(X, Y, *args, **kwargs)\n",
    "        return self.__normalize(X, Y, R)\n",
    "\n",
    "class NormalizedKernel(MarginalizedGraphKernel):\n",
    "    def __init__(self, *args, **kwargs):\n",
    "        super().__init__(*args, **kwargs)\n",
    "\n",
    "    def __normalize(self, X, Y, R):\n",
    "        if Y is None:\n",
    "            # square matrix\n",
    "            if type(R) is tuple:\n",
    "                d = np.diag(R[0]) ** -0.5\n",
    "                K = np.diag(d).dot(R[0]).dot(np.diag(d))\n",
    "                K_gradient = np.einsum(\"ijk,i,j->ijk\", R[1], d, d)\n",
    "                return K, K_gradient\n",
    "            else:\n",
    "                d = np.diag(R) ** -0.5\n",
    "                K = np.diag(d).dot(R).dot(np.diag(d))\n",
    "                return K\n",
    "        else:\n",
    "            # rectangular matrix, must have X and Y\n",
    "            if type(R) is tuple:\n",
    "                diag_X = super().diag(X) ** -0.5\n",
    "                diag_Y = super().diag(Y) ** -0.5\n",
    "                K = np.diag(diag_X).dot(R[0]).dot(np.diag(diag_Y))\n",
    "                K_gradient = np.einsum(\"ijk,i,j->ijk\", R[1], diag_X, diag_Y)\n",
    "                return K # , K_gradient\n",
    "            else:\n",
    "                diag_X = super().diag(X) ** -0.5\n",
    "                diag_Y = super().diag(Y) ** -0.5\n",
    "                K = np.diag(diag_X).dot(R).dot(np.diag(diag_Y))\n",
    "                return K\n",
    "\n",
    "    def __call__(self, X, Y=None, *args, **kwargs):\n",
    "        R = super().__call__(X, Y, *args, **kwargs)\n",
    "        return self.__normalize(X, Y, R)\n",
    "    \n",
    "knode = TensorProduct(aromatic=KroneckerDelta(0.8),\n",
    "                      #charge=SquareExponential(1.0),\n",
    "                      element=KroneckerDelta(0.5),\n",
    "                      hcount=SquareExponential(1.0)\n",
    "                      )\n",
    "kedge = TensorProduct(order=SquareExponential(1.0),\n",
    "                      stereo=KroneckerDelta(0.8),\n",
    "                      conjugated=KroneckerDelta(0.8),\n",
    "                      inring=KroneckerDelta(0.8)\n",
    "                      )\n",
    "graph_kernel = NormalizedKernel(knode, kedge, q=0.05)\n",
    "graph_kernel_grad = NormalizedKernelGrad(knode, kedge, q=0.05)"
   ]
  },
  {
   "cell_type": "code",
   "execution_count": 154,
   "metadata": {},
   "outputs": [],
   "source": [
    "np.random.seed(233)\n",
    "model = GaussianProcessRegressor(kernel=graph_kernel_grad, random_state=0,\n",
    "                                normalize_y=True, alpha=0.5).fit(df['graph'][np.random.choice(1000,500)], df['dc'][np.random.choice(1000,500)])"
   ]
  },
  {
   "cell_type": "code",
   "execution_count": 155,
   "metadata": {
    "scrolled": false
   },
   "outputs": [],
   "source": [
    "y_pred = model.predict(df['graph'][600:700])\n",
    "# R2\n",
    "r2 = r2_score(y_pred, df['dc'][600:700])\n",
    "# MSE\n",
    "mse = mean_squared_error(y_pred, df['dc'][600:700])"
   ]
  },
  {
   "cell_type": "code",
   "execution_count": 156,
   "metadata": {},
   "outputs": [
    {
     "data": {
      "text/plain": [
       "(-8.684696398703204, 0.00027194021404459143)"
      ]
     },
     "execution_count": 156,
     "metadata": {},
     "output_type": "execute_result"
    }
   ],
   "source": [
    "r2, mse"
   ]
  },
  {
   "cell_type": "code",
   "execution_count": 149,
   "metadata": {},
   "outputs": [
    {
     "data": {
      "text/plain": [
       "3617"
      ]
     },
     "execution_count": 149,
     "metadata": {},
     "output_type": "execute_result"
    }
   ],
   "source": [
    "len(df)"
   ]
  },
  {
   "cell_type": "code",
   "execution_count": 140,
   "metadata": {},
   "outputs": [
    {
     "data": {
      "text/plain": [
       "1337"
      ]
     },
     "execution_count": 140,
     "metadata": {},
     "output_type": "execute_result"
    }
   ],
   "source": [
    "len(df)"
   ]
  },
  {
   "cell_type": "code",
   "execution_count": null,
   "metadata": {},
   "outputs": [],
   "source": []
  }
 ],
 "metadata": {
  "kernelspec": {
   "display_name": "Python 3",
   "language": "python",
   "name": "python3"
  },
  "language_info": {
   "codemirror_mode": {
    "name": "ipython",
    "version": 3
   },
   "file_extension": ".py",
   "mimetype": "text/x-python",
   "name": "python",
   "nbconvert_exporter": "python",
   "pygments_lexer": "ipython3",
   "version": "3.7.6"
  }
 },
 "nbformat": 4,
 "nbformat_minor": 2
}
